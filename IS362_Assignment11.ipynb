{
 "cells": [
  {
   "cell_type": "markdown",
   "metadata": {
    "id": "v8_02_a3C1zR"
   },
   "source": [
    "**Prompt**\n",
    "\n",
    "Your task is to choose one of the New York Times APIs, construct an interface in Python to read in the JSON data, and transform it into a pandas DataFrame."
   ]
  },
  {
   "cell_type": "code",
   "execution_count": 1,
   "metadata": {
    "id": "zyuT_m_BEpV3"
   },
   "outputs": [],
   "source": [
    "# import requests to get the url\n",
    "import requests\n",
    "# import json to return a json object\n",
    "import json\n",
    "# import pandas to convert the json object to a DataFrame\n",
    "import pandas as pd\n",
    "import numpy as np"
   ]
  },
  {
   "cell_type": "markdown",
   "metadata": {
    "id": "sl9tRTgUEtFO"
   },
   "source": [
    "Url to get lists, as shown at [NYT Books API](https://developer.nytimes.com/docs/books-product/1/routes/lists.json/get), get Best Sellers list. If no date is provided returns the latest list."
   ]
  },
  {
   "cell_type": "code",
   "execution_count": 2,
   "metadata": {
    "id": "AOcJZtV9EVRe"
   },
   "outputs": [],
   "source": [
    "# get the bestsellers lists\n",
    "nyt_httprequest = 'https://api.nytimes.com/svc/books/v3/lists'"
   ]
  },
  {
   "cell_type": "code",
   "execution_count": 3,
   "metadata": {
    "id": "Xxl_sdAAFOpv"
   },
   "outputs": [],
   "source": [
    "# the date range of interest to me\n",
    "date = '/current'"
   ]
  },
  {
   "cell_type": "code",
   "execution_count": 4,
   "metadata": {
    "id": "lPTf66gbFdgO"
   },
   "outputs": [],
   "source": [
    "# the list I want to see\n",
    "list_i_want = '/picture-books'"
   ]
  },
  {
   "cell_type": "code",
   "execution_count": 5,
   "metadata": {
    "id": "18dPF99TI0C1"
   },
   "outputs": [],
   "source": [
    "# my NYT api key, saved as a string\n",
    "api_key = 'ftwk6glZqBLAzAA3KvorfQAbUFO7WKzl'"
   ]
  },
  {
   "cell_type": "code",
   "execution_count": 6,
   "metadata": {
    "id": "tRzXYdD0EFVs"
   },
   "outputs": [],
   "source": [
    "# function to get a bestsellers book list as a pandas DataFrame\n",
    "def getBookList(date, list_i_want, api_key):\n",
    "  url = nyt_httprequest + date + list_i_want + '.json?api-key=' + api_key # concatenate strings to create url\n",
    "  r = requests.get(url=url) # get the url\n",
    "  json_data = r.json() # convert to json object\n",
    "  df = pd.DataFrame.from_dict(json_data['results']['books']) # convert dict object to a df\n",
    "  df = df.replace(\"\", np.nan) # replace empty records with NaN\n",
    "  df = df.dropna(how='all', axis=1) # drops columns with all NaN values\n",
    "  return df"
   ]
  },
  {
   "cell_type": "code",
   "execution_count": 7,
   "metadata": {
    "colab": {
     "base_uri": "https://localhost:8080/",
     "height": 951
    },
    "id": "9XiZTw4DdtW5",
    "outputId": "c1f822cc-a195-4fc2-e4d0-7658291bae40"
   },
   "outputs": [
    {
     "name": "stdout",
     "output_type": "stream",
     "text": [
      "<class 'pandas.core.frame.DataFrame'>\n",
      "RangeIndex: 10 entries, 0 to 9\n",
      "Data columns (total 21 columns):\n",
      " #   Column              Non-Null Count  Dtype \n",
      "---  ------              --------------  ----- \n",
      " 0   rank                10 non-null     int64 \n",
      " 1   rank_last_week      10 non-null     int64 \n",
      " 2   weeks_on_list       10 non-null     int64 \n",
      " 3   asterisk            10 non-null     int64 \n",
      " 4   dagger              10 non-null     int64 \n",
      " 5   primary_isbn10      10 non-null     object\n",
      " 6   primary_isbn13      10 non-null     object\n",
      " 7   publisher           10 non-null     object\n",
      " 8   description         10 non-null     object\n",
      " 9   price               10 non-null     object\n",
      " 10  title               10 non-null     object\n",
      " 11  author              10 non-null     object\n",
      " 12  contributor         10 non-null     object\n",
      " 13  contributor_note    9 non-null      object\n",
      " 14  book_image          10 non-null     object\n",
      " 15  book_image_width    10 non-null     int64 \n",
      " 16  book_image_height   10 non-null     int64 \n",
      " 17  amazon_product_url  10 non-null     object\n",
      " 18  isbns               10 non-null     object\n",
      " 19  buy_links           10 non-null     object\n",
      " 20  book_uri            10 non-null     object\n",
      "dtypes: int64(7), object(14)\n",
      "memory usage: 1.8+ KB\n"
     ]
    }
   ],
   "source": [
    "# save the function call to a variable\n",
    "picture_books_df = getBookList(date=date, list_i_want=list_i_want, api_key=api_key)\n",
    "# view the column names\n",
    "picture_books_df.info()"
   ]
  },
  {
   "cell_type": "code",
   "execution_count": 8,
   "metadata": {},
   "outputs": [
    {
     "data": {
      "text/html": [
       "<div>\n",
       "<style scoped>\n",
       "    .dataframe tbody tr th:only-of-type {\n",
       "        vertical-align: middle;\n",
       "    }\n",
       "\n",
       "    .dataframe tbody tr th {\n",
       "        vertical-align: top;\n",
       "    }\n",
       "\n",
       "    .dataframe thead th {\n",
       "        text-align: right;\n",
       "    }\n",
       "</style>\n",
       "<table border=\"1\" class=\"dataframe\">\n",
       "  <thead>\n",
       "    <tr style=\"text-align: right;\">\n",
       "      <th></th>\n",
       "      <th>rank</th>\n",
       "      <th>publisher</th>\n",
       "      <th>description</th>\n",
       "      <th>title</th>\n",
       "      <th>author</th>\n",
       "      <th>contributor</th>\n",
       "      <th>contributor_note</th>\n",
       "      <th>isbns</th>\n",
       "      <th>book_uri</th>\n",
       "    </tr>\n",
       "  </thead>\n",
       "  <tbody>\n",
       "    <tr>\n",
       "      <th>0</th>\n",
       "      <td>1</td>\n",
       "      <td>Roaring Brook</td>\n",
       "      <td>Standing up for environmental justice.</td>\n",
       "      <td>WE ARE WATER PROTECTORS</td>\n",
       "      <td>Carole Lindstrom.</td>\n",
       "      <td>by Carole Lindstrom. Illustrated by Michaela G...</td>\n",
       "      <td>Illustrated by Michaela Goade</td>\n",
       "      <td>[{'isbn10': '1250203554', 'isbn13': '978125020...</td>\n",
       "      <td>nyt://book/8217ee63-d106-520b-af8c-901b68950754</td>\n",
       "    </tr>\n",
       "    <tr>\n",
       "      <th>1</th>\n",
       "      <td>2</td>\n",
       "      <td>Feiwel &amp; Friends</td>\n",
       "      <td>A road answers a child's many questions about ...</td>\n",
       "      <td>WHAT THE ROAD SAID</td>\n",
       "      <td>Cleo Wade.</td>\n",
       "      <td>by Cleo Wade. Illustrated by Lucie de Moyencourt</td>\n",
       "      <td>Illustrated by Lucie de Moyencourt</td>\n",
       "      <td>[{'isbn10': '1250269490', 'isbn13': '978125026...</td>\n",
       "      <td>nyt://book/69ec9b93-ca14-5936-a57c-3d3985d67dee</td>\n",
       "    </tr>\n",
       "    <tr>\n",
       "      <th>2</th>\n",
       "      <td>3</td>\n",
       "      <td>Little, Brown</td>\n",
       "      <td>A mother-to-be prepares for the arrival of her...</td>\n",
       "      <td>I SANG YOU DOWN FROM THE STARS</td>\n",
       "      <td>Tasha Spillett-Sumner.</td>\n",
       "      <td>by Tasha Spillett-Sumner. Illustrated by Micha...</td>\n",
       "      <td>Illustrated by Michaela Goade</td>\n",
       "      <td>[{'isbn10': '0316493163', 'isbn13': '978031649...</td>\n",
       "      <td>nyt://book/f287fd91-a563-5d78-80b5-bb66b125620d</td>\n",
       "    </tr>\n",
       "    <tr>\n",
       "      <th>3</th>\n",
       "      <td>4</td>\n",
       "      <td>HarperCollins</td>\n",
       "      <td>A tale of self-acceptance and respect for one’...</td>\n",
       "      <td>EYES THAT KISS IN THE CORNERS</td>\n",
       "      <td>Joanna Ho.</td>\n",
       "      <td>by Joanna Ho. Illustrated by Dung Ho</td>\n",
       "      <td>Illustrated by Dung Ho</td>\n",
       "      <td>[{'isbn10': '0062915622', 'isbn13': '978006291...</td>\n",
       "      <td>nyt://book/917181c9-052e-5a43-82ed-23c1350dc6dc</td>\n",
       "    </tr>\n",
       "    <tr>\n",
       "      <th>4</th>\n",
       "      <td>5</td>\n",
       "      <td>Kokila</td>\n",
       "      <td>A father and daughter work together on an extr...</td>\n",
       "      <td>HAIR LOVE</td>\n",
       "      <td>Matthew A. Cherry.</td>\n",
       "      <td>by Matthew A. Cherry. Illustrated by Vashti Ha...</td>\n",
       "      <td>Illustrated by Vashti Harrison</td>\n",
       "      <td>[{'isbn10': '0525553363', 'isbn13': '978052555...</td>\n",
       "      <td>nyt://book/42fd8324-258f-5ceb-aa14-6e4aaebebbc9</td>\n",
       "    </tr>\n",
       "    <tr>\n",
       "      <th>5</th>\n",
       "      <td>6</td>\n",
       "      <td>Random House</td>\n",
       "      <td>A celebration of future possibilities.</td>\n",
       "      <td>THE WONDERFUL THINGS YOU WILL BE</td>\n",
       "      <td>Emily Winfield Martin</td>\n",
       "      <td>by Emily Winfield Martin</td>\n",
       "      <td>NaN</td>\n",
       "      <td>[{'isbn10': '0385376715', 'isbn13': '978038537...</td>\n",
       "      <td>nyt://book/36cac861-60d3-511f-ba6d-edc88c6e938e</td>\n",
       "    </tr>\n",
       "    <tr>\n",
       "      <th>6</th>\n",
       "      <td>7</td>\n",
       "      <td>Random House</td>\n",
       "      <td>Jim Panzee is having a bad day.</td>\n",
       "      <td>GRUMPY MONKEY</td>\n",
       "      <td>Suzanne Lang.</td>\n",
       "      <td>by Suzanne Lang. Illustrated by Max Lang</td>\n",
       "      <td>Illustrated by Max Lang</td>\n",
       "      <td>[{'isbn10': '0553537865', 'isbn13': '978055353...</td>\n",
       "      <td>nyt://book/3fdec40b-2bc4-5849-8a0f-30a6814b916b</td>\n",
       "    </tr>\n",
       "    <tr>\n",
       "      <th>7</th>\n",
       "      <td>8</td>\n",
       "      <td>Abrams</td>\n",
       "      <td>A kitten identifies with being a unicorn.</td>\n",
       "      <td>ITTY-BITTY KITTY-CORN</td>\n",
       "      <td>Shannon Hale.</td>\n",
       "      <td>by Shannon Hale. Illustrated by LeUyen Pham</td>\n",
       "      <td>Illustrated by LeUyen Pham</td>\n",
       "      <td>[{'isbn10': '1419750917', 'isbn13': '978141975...</td>\n",
       "      <td>nyt://book/052a32aa-3656-5856-ba0b-c19d346b0256</td>\n",
       "    </tr>\n",
       "    <tr>\n",
       "      <th>8</th>\n",
       "      <td>9</td>\n",
       "      <td>Thomas Nelson</td>\n",
       "      <td>An inspirational message of acceptance and cel...</td>\n",
       "      <td>THE WORLD NEEDS WHO YOU WERE MADE TO BE</td>\n",
       "      <td>Joanna Gaines.</td>\n",
       "      <td>by Joanna Gaines. Illustrated by Julianna Swaney</td>\n",
       "      <td>Illustrated by Julianna Swaney</td>\n",
       "      <td>[{'isbn10': '1400314232', 'isbn13': '978140031...</td>\n",
       "      <td>nyt://book/45d6951e-922d-5035-9e3d-73bf0d09ba5a</td>\n",
       "    </tr>\n",
       "    <tr>\n",
       "      <th>9</th>\n",
       "      <td>10</td>\n",
       "      <td>Random House</td>\n",
       "      <td>Embracing the things that bring us together as...</td>\n",
       "      <td>THE WORLD NEEDS MORE PURPLE PEOPLE</td>\n",
       "      <td>Kristen Bell and Benjamin Hart.</td>\n",
       "      <td>by Kristen Bell and Benjamin Hart. Illustrated...</td>\n",
       "      <td>Illustrated by Daniel Wiseman</td>\n",
       "      <td>[{'isbn10': '0593121961', 'isbn13': '978059312...</td>\n",
       "      <td>nyt://book/ed00c2a3-ce6d-51ea-8ff4-eda5541b6fef</td>\n",
       "    </tr>\n",
       "  </tbody>\n",
       "</table>\n",
       "</div>"
      ],
      "text/plain": [
       "   rank         publisher                                        description  \\\n",
       "0     1     Roaring Brook             Standing up for environmental justice.   \n",
       "1     2  Feiwel & Friends  A road answers a child's many questions about ...   \n",
       "2     3     Little, Brown  A mother-to-be prepares for the arrival of her...   \n",
       "3     4     HarperCollins  A tale of self-acceptance and respect for one’...   \n",
       "4     5            Kokila  A father and daughter work together on an extr...   \n",
       "5     6      Random House             A celebration of future possibilities.   \n",
       "6     7      Random House                    Jim Panzee is having a bad day.   \n",
       "7     8            Abrams          A kitten identifies with being a unicorn.   \n",
       "8     9     Thomas Nelson  An inspirational message of acceptance and cel...   \n",
       "9    10      Random House  Embracing the things that bring us together as...   \n",
       "\n",
       "                                     title                           author  \\\n",
       "0                  WE ARE WATER PROTECTORS                Carole Lindstrom.   \n",
       "1                       WHAT THE ROAD SAID                       Cleo Wade.   \n",
       "2           I SANG YOU DOWN FROM THE STARS           Tasha Spillett-Sumner.   \n",
       "3            EYES THAT KISS IN THE CORNERS                       Joanna Ho.   \n",
       "4                                HAIR LOVE               Matthew A. Cherry.   \n",
       "5         THE WONDERFUL THINGS YOU WILL BE            Emily Winfield Martin   \n",
       "6                            GRUMPY MONKEY                    Suzanne Lang.   \n",
       "7                    ITTY-BITTY KITTY-CORN                    Shannon Hale.   \n",
       "8  THE WORLD NEEDS WHO YOU WERE MADE TO BE                   Joanna Gaines.   \n",
       "9       THE WORLD NEEDS MORE PURPLE PEOPLE  Kristen Bell and Benjamin Hart.   \n",
       "\n",
       "                                         contributor  \\\n",
       "0  by Carole Lindstrom. Illustrated by Michaela G...   \n",
       "1   by Cleo Wade. Illustrated by Lucie de Moyencourt   \n",
       "2  by Tasha Spillett-Sumner. Illustrated by Micha...   \n",
       "3               by Joanna Ho. Illustrated by Dung Ho   \n",
       "4  by Matthew A. Cherry. Illustrated by Vashti Ha...   \n",
       "5                           by Emily Winfield Martin   \n",
       "6           by Suzanne Lang. Illustrated by Max Lang   \n",
       "7        by Shannon Hale. Illustrated by LeUyen Pham   \n",
       "8   by Joanna Gaines. Illustrated by Julianna Swaney   \n",
       "9  by Kristen Bell and Benjamin Hart. Illustrated...   \n",
       "\n",
       "                     contributor_note  \\\n",
       "0       Illustrated by Michaela Goade   \n",
       "1  Illustrated by Lucie de Moyencourt   \n",
       "2       Illustrated by Michaela Goade   \n",
       "3              Illustrated by Dung Ho   \n",
       "4      Illustrated by Vashti Harrison   \n",
       "5                                 NaN   \n",
       "6             Illustrated by Max Lang   \n",
       "7          Illustrated by LeUyen Pham   \n",
       "8      Illustrated by Julianna Swaney   \n",
       "9       Illustrated by Daniel Wiseman   \n",
       "\n",
       "                                               isbns  \\\n",
       "0  [{'isbn10': '1250203554', 'isbn13': '978125020...   \n",
       "1  [{'isbn10': '1250269490', 'isbn13': '978125026...   \n",
       "2  [{'isbn10': '0316493163', 'isbn13': '978031649...   \n",
       "3  [{'isbn10': '0062915622', 'isbn13': '978006291...   \n",
       "4  [{'isbn10': '0525553363', 'isbn13': '978052555...   \n",
       "5  [{'isbn10': '0385376715', 'isbn13': '978038537...   \n",
       "6  [{'isbn10': '0553537865', 'isbn13': '978055353...   \n",
       "7  [{'isbn10': '1419750917', 'isbn13': '978141975...   \n",
       "8  [{'isbn10': '1400314232', 'isbn13': '978140031...   \n",
       "9  [{'isbn10': '0593121961', 'isbn13': '978059312...   \n",
       "\n",
       "                                          book_uri  \n",
       "0  nyt://book/8217ee63-d106-520b-af8c-901b68950754  \n",
       "1  nyt://book/69ec9b93-ca14-5936-a57c-3d3985d67dee  \n",
       "2  nyt://book/f287fd91-a563-5d78-80b5-bb66b125620d  \n",
       "3  nyt://book/917181c9-052e-5a43-82ed-23c1350dc6dc  \n",
       "4  nyt://book/42fd8324-258f-5ceb-aa14-6e4aaebebbc9  \n",
       "5  nyt://book/36cac861-60d3-511f-ba6d-edc88c6e938e  \n",
       "6  nyt://book/3fdec40b-2bc4-5849-8a0f-30a6814b916b  \n",
       "7  nyt://book/052a32aa-3656-5856-ba0b-c19d346b0256  \n",
       "8  nyt://book/45d6951e-922d-5035-9e3d-73bf0d09ba5a  \n",
       "9  nyt://book/ed00c2a3-ce6d-51ea-8ff4-eda5541b6fef  "
      ]
     },
     "execution_count": 8,
     "metadata": {},
     "output_type": "execute_result"
    }
   ],
   "source": [
    "# drop unecessary columns\n",
    "picture_books_df.drop(['rank_last_week', 'weeks_on_list', 'asterisk', 'dagger', 'primary_isbn10', 'primary_isbn13', 'price', 'book_image', 'book_image_width', 'book_image_height', 'amazon_product_url', 'buy_links'], axis=1, inplace=True)\n",
    "picture_books_df"
   ]
  }
 ],
 "metadata": {
  "colab": {
   "collapsed_sections": [],
   "name": "IS362_Assignment11.ipynb",
   "provenance": []
  },
  "kernelspec": {
   "display_name": "Python 3",
   "language": "python",
   "name": "python3"
  },
  "language_info": {
   "codemirror_mode": {
    "name": "ipython",
    "version": 3
   },
   "file_extension": ".py",
   "mimetype": "text/x-python",
   "name": "python",
   "nbconvert_exporter": "python",
   "pygments_lexer": "ipython3",
   "version": "3.8.6"
  }
 },
 "nbformat": 4,
 "nbformat_minor": 1
}
